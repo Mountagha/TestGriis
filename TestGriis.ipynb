{
  "nbformat": 4,
  "nbformat_minor": 0,
  "metadata": {
    "colab": {
      "name": "TestGriis.ipynb",
      "provenance": [],
      "collapsed_sections": []
    },
    "kernelspec": {
      "name": "python3",
      "display_name": "Python 3"
    }
  },
  "cells": [
    {
      "cell_type": "markdown",
      "metadata": {
        "id": "nrJVa7sB_UtT",
        "colab_type": "text"
      },
      "source": [
        "### 1-Install and import required libraries"
      ]
    },
    {
      "cell_type": "code",
      "metadata": {
        "id": "wOB8sgFyssnF",
        "colab_type": "code",
        "colab": {
          "base_uri": "https://localhost:8080/",
          "height": 51
        },
        "outputId": "dbdf0d2f-a659-445e-c407-358ae303f2d0"
      },
      "source": [
        "!pip install nibabel"
      ],
      "execution_count": 1,
      "outputs": [
        {
          "output_type": "stream",
          "text": [
            "Requirement already satisfied: nibabel in /usr/local/lib/python3.6/dist-packages (3.0.2)\n",
            "Requirement already satisfied: numpy>=1.12 in /usr/local/lib/python3.6/dist-packages (from nibabel) (1.18.5)\n"
          ],
          "name": "stdout"
        }
      ]
    },
    {
      "cell_type": "code",
      "metadata": {
        "id": "eX1rV1xUs1vV",
        "colab_type": "code",
        "colab": {}
      },
      "source": [
        "import numpy as np\n",
        "import nibabel as nb\n",
        "import pandas as pd\n",
        "from google.colab import files\n",
        "import os\n",
        "import csv "
      ],
      "execution_count": 2,
      "outputs": []
    },
    {
      "cell_type": "markdown",
      "metadata": {
        "id": "BukCffvu_0rw",
        "colab_type": "text"
      },
      "source": [
        "### Import niftii files from github"
      ]
    },
    {
      "cell_type": "code",
      "metadata": {
        "id": "bPBJcq-L__Q5",
        "colab_type": "code",
        "colab": {
          "base_uri": "https://localhost:8080/",
          "height": 153
        },
        "outputId": "807c72c3-bea1-47ba-a18a-36082247ebd4"
      },
      "source": [
        "!git clone https://github.com/theibsi/data_sets.git"
      ],
      "execution_count": 3,
      "outputs": [
        {
          "output_type": "stream",
          "text": [
            "Cloning into 'data_sets'...\n",
            "remote: Enumerating objects: 41, done.\u001b[K\n",
            "remote: Counting objects: 100% (41/41), done.\u001b[K\n",
            "remote: Compressing objects: 100% (23/23), done.\u001b[K\n",
            "remote: Total 11267 (delta 6), reused 40 (delta 6), pack-reused 11226\u001b[K\n",
            "Receiving objects: 100% (11267/11267), 563.05 MiB | 15.24 MiB/s, done.\n",
            "Resolving deltas: 100% (1295/1295), done.\n",
            "Checking out files: 100% (10332/10332), done.\n"
          ],
          "name": "stdout"
        }
      ]
    },
    {
      "cell_type": "code",
      "metadata": {
        "id": "5TtXcppWB4P_",
        "colab_type": "code",
        "colab": {
          "base_uri": "https://localhost:8080/",
          "height": 34
        },
        "outputId": "346cd471-ba34-4963-af0b-e61eb8fc7e1f"
      },
      "source": [
        "data_path = 'data_sets/ibsi_1_digital_phantom/nifti'\n",
        "!ls\n",
        "mask_data = nb.load(os.path.join(data_path, 'mask', 'mask.nii.gz')).get_fdata()\n",
        "phantom_data = nb.load(os.path.join(data_path, 'image', 'phantom.nii.gz')).get_fdata()"
      ],
      "execution_count": 4,
      "outputs": [
        {
          "output_type": "stream",
          "text": [
            "data_sets  sample_data\n"
          ],
          "name": "stdout"
        }
      ]
    },
    {
      "cell_type": "markdown",
      "metadata": {
        "id": "jH7Sf5jTEGHq",
        "colab_type": "text"
      },
      "source": [
        "#### Note that it is also possible to import data from local by using files.upload as below"
      ]
    },
    {
      "cell_type": "code",
      "metadata": {
        "id": "Hyou6rgks43h",
        "colab_type": "code",
        "colab": {}
      },
      "source": [
        "# upload images\n",
        "# uploaded = files.upload()"
      ],
      "execution_count": 5,
      "outputs": []
    },
    {
      "cell_type": "code",
      "metadata": {
        "id": "25AkPUd0tqyZ",
        "colab_type": "code",
        "colab": {}
      },
      "source": [
        "# upload masks\n",
        "# files.upload()"
      ],
      "execution_count": 6,
      "outputs": []
    },
    {
      "cell_type": "code",
      "metadata": {
        "id": "Y_lmkzV7ughx",
        "colab_type": "code",
        "colab": {}
      },
      "source": [
        "# mask_data = nb.load('mask.nii.gz').get_fdata()\n",
        "# phantom_data = nb.load('phantom.nii.gz').get_fdata()"
      ],
      "execution_count": 7,
      "outputs": []
    },
    {
      "cell_type": "markdown",
      "metadata": {
        "id": "JAOgSjVkEedD",
        "colab_type": "text"
      },
      "source": [
        "#### some sanity checks"
      ]
    },
    {
      "cell_type": "code",
      "metadata": {
        "id": "FtStkgucvL9a",
        "colab_type": "code",
        "colab": {
          "base_uri": "https://localhost:8080/",
          "height": 34
        },
        "outputId": "9812d877-f7aa-4335-f908-4d458ee67a21"
      },
      "source": [
        "#verifying the shape of mask and phantom are similar\n",
        "mask_data.shape == phantom_data.shape\n"
      ],
      "execution_count": 8,
      "outputs": [
        {
          "output_type": "execute_result",
          "data": {
            "text/plain": [
              "True"
            ]
          },
          "metadata": {
            "tags": []
          },
          "execution_count": 8
        }
      ]
    },
    {
      "cell_type": "code",
      "metadata": {
        "id": "aqW391gZvcTe",
        "colab_type": "code",
        "colab": {
          "base_uri": "https://localhost:8080/",
          "height": 68
        },
        "outputId": "3a91f21a-27de-41f0-e341-c041e0a20674"
      },
      "source": [
        "# compute the phantom with the mask \n",
        "phantom_masked = phantom_data * mask_data\n",
        "\n",
        "# checking\n",
        "print(np.unique(mask_data))\n",
        "print(np.unique(phantom_data))\n",
        "print(np.unique(phantom_masked))"
      ],
      "execution_count": 9,
      "outputs": [
        {
          "output_type": "stream",
          "text": [
            "[0. 1.]\n",
            "[1. 3. 4. 6. 9.]\n",
            "[0. 1. 3. 4. 6.]\n"
          ],
          "name": "stdout"
        }
      ]
    },
    {
      "cell_type": "code",
      "metadata": {
        "id": "YI8r1vTgwV2F",
        "colab_type": "code",
        "colab": {
          "base_uri": "https://localhost:8080/",
          "height": 425
        },
        "outputId": "baa68eaa-5488-4c3b-8fcc-97f554ade157"
      },
      "source": [
        "phantom_masked"
      ],
      "execution_count": 10,
      "outputs": [
        {
          "output_type": "execute_result",
          "data": {
            "text/plain": [
              "array([[[1., 1., 1., 1.],\n",
              "        [1., 1., 1., 1.],\n",
              "        [4., 0., 1., 1.],\n",
              "        [4., 4., 1., 1.]],\n",
              "\n",
              "       [[4., 4., 4., 4.],\n",
              "        [4., 1., 1., 1.],\n",
              "        [1., 1., 1., 1.],\n",
              "        [4., 4., 1., 1.]],\n",
              "\n",
              "       [[4., 4., 4., 4.],\n",
              "        [6., 6., 1., 1.],\n",
              "        [6., 3., 0., 1.],\n",
              "        [6., 6., 6., 6.]],\n",
              "\n",
              "       [[1., 1., 0., 0.],\n",
              "        [1., 1., 1., 1.],\n",
              "        [4., 1., 1., 1.],\n",
              "        [4., 1., 1., 1.]],\n",
              "\n",
              "       [[1., 1., 0., 0.],\n",
              "        [1., 1., 1., 1.],\n",
              "        [1., 1., 1., 1.],\n",
              "        [1., 1., 1., 1.]]])"
            ]
          },
          "metadata": {
            "tags": []
          },
          "execution_count": 10
        }
      ]
    },
    {
      "cell_type": "markdown",
      "metadata": {
        "id": "oBlDUgP-FAbn",
        "colab_type": "text"
      },
      "source": [
        "#### Compute features and store values into a dictionnary where each key correponds to the current feature name"
      ]
    },
    {
      "cell_type": "code",
      "metadata": {
        "id": "lfbZta0KwacA",
        "colab_type": "code",
        "colab": {
          "base_uri": "https://localhost:8080/",
          "height": 34
        },
        "outputId": "cc7e308a-db1c-4952-e1ff-b153e85b4595"
      },
      "source": [
        "features_dict = {}\n",
        "# mean intensity\n",
        "features_dict['mean_intensity'] = phantom_masked.flatten().mean()\n",
        "print(features_dict['mean_intensity'])"
      ],
      "execution_count": 11,
      "outputs": [
        {
          "output_type": "stream",
          "text": [
            "1.9875\n"
          ],
          "name": "stdout"
        }
      ]
    },
    {
      "cell_type": "code",
      "metadata": {
        "id": "Q2unZn1_xhHl",
        "colab_type": "code",
        "colab": {
          "base_uri": "https://localhost:8080/",
          "height": 34
        },
        "outputId": "ffccf9cf-5543-4dfa-fa82-9ef83cd4984b"
      },
      "source": [
        "#calculate mean variance\n",
        "features_dict['intensity_variance'] = ((phantom_masked - features_dict['mean_intensity'])**2).mean()\n",
        "features_dict['intensity_variance']"
      ],
      "execution_count": 12,
      "outputs": [
        {
          "output_type": "execute_result",
          "data": {
            "text/plain": [
              "3.1373437500000003"
            ]
          },
          "metadata": {
            "tags": []
          },
          "execution_count": 12
        }
      ]
    },
    {
      "cell_type": "code",
      "metadata": {
        "id": "c2NMaTl4x8mj",
        "colab_type": "code",
        "colab": {
          "base_uri": "https://localhost:8080/",
          "height": 34
        },
        "outputId": "a137d53a-7943-4687-9967-dc4f916556d5"
      },
      "source": [
        "# Intensity skewness\n",
        "num = ((phantom_data - features_dict['mean_intensity'])**2).mean()\n",
        "denom = features_dict['intensity_variance']**1.5\n",
        "features_dict['intensity_skewness']= num / denom \n",
        "features_dict['intensity_skewness']"
      ],
      "execution_count": 13,
      "outputs": [
        {
          "output_type": "execute_result",
          "data": {
            "text/plain": [
              "0.6328408108841197"
            ]
          },
          "metadata": {
            "tags": []
          },
          "execution_count": 13
        }
      ]
    },
    {
      "cell_type": "code",
      "metadata": {
        "id": "zvDe6sgKyc-C",
        "colab_type": "code",
        "colab": {
          "base_uri": "https://localhost:8080/",
          "height": 34
        },
        "outputId": "bd4c9c2e-3c27-4dee-ed00-c7d7b5614add"
      },
      "source": [
        "# intensity kurtosis\n",
        "num = ((phantom_masked - features_dict['mean_intensity'])**4).mean()\n",
        "denom = features_dict['intensity_variance']**2 \n",
        "features_dict['intensity kurtosis'] = (num / denom) - 3\n",
        "features_dict['intensity kurtosis'] "
      ],
      "execution_count": 14,
      "outputs": [
        {
          "output_type": "execute_result",
          "data": {
            "text/plain": [
              "-0.18175094675151637"
            ]
          },
          "metadata": {
            "tags": []
          },
          "execution_count": 14
        }
      ]
    },
    {
      "cell_type": "code",
      "metadata": {
        "id": "iod2dDz4zAmt",
        "colab_type": "code",
        "colab": {
          "base_uri": "https://localhost:8080/",
          "height": 34
        },
        "outputId": "59dc5708-79d0-48ec-955e-0a78ffb8ab57"
      },
      "source": [
        "#Median intensity\n",
        "features_dict['median_intensity'] = np.median(phantom_masked.flatten())\n",
        "features_dict['median_intensity']"
      ],
      "execution_count": 15,
      "outputs": [
        {
          "output_type": "execute_result",
          "data": {
            "text/plain": [
              "1.0"
            ]
          },
          "metadata": {
            "tags": []
          },
          "execution_count": 15
        }
      ]
    },
    {
      "cell_type": "code",
      "metadata": {
        "id": "ywnp01DKzv9L",
        "colab_type": "code",
        "colab": {
          "base_uri": "https://localhost:8080/",
          "height": 34
        },
        "outputId": "33fe91d1-aae2-43a4-b281-858eee13a3c8"
      },
      "source": [
        "#minimum intensity\n",
        "features_dict['min_intensity'] = (phantom_masked.flatten()).min()\n",
        "features_dict['min_intensity']"
      ],
      "execution_count": 16,
      "outputs": [
        {
          "output_type": "execute_result",
          "data": {
            "text/plain": [
              "0.0"
            ]
          },
          "metadata": {
            "tags": []
          },
          "execution_count": 16
        }
      ]
    },
    {
      "cell_type": "code",
      "metadata": {
        "id": "Pg54MEan0UVh",
        "colab_type": "code",
        "colab": {
          "base_uri": "https://localhost:8080/",
          "height": 34
        },
        "outputId": "800930f0-6aa4-41a6-8a21-90c7bfc224e3"
      },
      "source": [
        "# the 10th percentile\n",
        "features_dict['tenth_percentile'] = np.percentile(phantom_masked.flatten(), 10)\n",
        "features_dict['tenth_percentile']"
      ],
      "execution_count": 17,
      "outputs": [
        {
          "output_type": "execute_result",
          "data": {
            "text/plain": [
              "1.0"
            ]
          },
          "metadata": {
            "tags": []
          },
          "execution_count": 17
        }
      ]
    },
    {
      "cell_type": "code",
      "metadata": {
        "id": "up57P7dg0qUp",
        "colab_type": "code",
        "colab": {
          "base_uri": "https://localhost:8080/",
          "height": 34
        },
        "outputId": "85892c7f-3ae1-45e5-d358-5d70ab192619"
      },
      "source": [
        "# the 90 percentile\n",
        "features_dict['ninetenth_percentile'] = np.percentile(phantom_masked.flatten(), 90)\n",
        "features_dict['ninetenth_percentile']"
      ],
      "execution_count": 18,
      "outputs": [
        {
          "output_type": "execute_result",
          "data": {
            "text/plain": [
              "4.0"
            ]
          },
          "metadata": {
            "tags": []
          },
          "execution_count": 18
        }
      ]
    },
    {
      "cell_type": "code",
      "metadata": {
        "id": "Ssq_AgQnZx1J",
        "colab_type": "code",
        "colab": {
          "base_uri": "https://localhost:8080/",
          "height": 34
        },
        "outputId": "9d5625fa-14d0-4aa2-b00c-32e8d5afadec"
      },
      "source": [
        "# maximum intensity\n",
        "features_dict['max_intensity'] = phantom_masked.flatten().max()\n",
        "features_dict['max_intensity']"
      ],
      "execution_count": 19,
      "outputs": [
        {
          "output_type": "execute_result",
          "data": {
            "text/plain": [
              "6.0"
            ]
          },
          "metadata": {
            "tags": []
          },
          "execution_count": 19
        }
      ]
    },
    {
      "cell_type": "code",
      "metadata": {
        "id": "pKfZFRuraCp_",
        "colab_type": "code",
        "colab": {
          "base_uri": "https://localhost:8080/",
          "height": 34
        },
        "outputId": "8a053876-8399-4b6d-9a86-5a9da12c2cb8"
      },
      "source": [
        "# intensity interquartile range\n",
        "features_dict['interquartile_range'] = np.percentile(phantom_masked.flatten(), 75) - np.percentile(phantom_masked.flatten(), 25)\n",
        "features_dict['interquartile_range']"
      ],
      "execution_count": 20,
      "outputs": [
        {
          "output_type": "execute_result",
          "data": {
            "text/plain": [
              "3.0"
            ]
          },
          "metadata": {
            "tags": []
          },
          "execution_count": 20
        }
      ]
    },
    {
      "cell_type": "code",
      "metadata": {
        "id": "LaLoOJWtsb3l",
        "colab_type": "code",
        "colab": {
          "base_uri": "https://localhost:8080/",
          "height": 34
        },
        "outputId": "c8352359-85a3-4f87-d6d6-4a2a61c9054c"
      },
      "source": [
        "# intensity range\n",
        "features_dict['intensity range'] = features_dict['max_intensity'] - features_dict['min_intensity']\n",
        "features_dict['intensity range']"
      ],
      "execution_count": 21,
      "outputs": [
        {
          "output_type": "execute_result",
          "data": {
            "text/plain": [
              "6.0"
            ]
          },
          "metadata": {
            "tags": []
          },
          "execution_count": 21
        }
      ]
    },
    {
      "cell_type": "code",
      "metadata": {
        "id": "lgIAzZNAs2Vp",
        "colab_type": "code",
        "colab": {
          "base_uri": "https://localhost:8080/",
          "height": 34
        },
        "outputId": "f7b03357-8894-4b8c-82d3-242ac49238f0"
      },
      "source": [
        "# intensity-based-mean absolute deviation\n",
        "features_dict['mean_absolute_deviation'] = (np.abs(phantom_masked - features_dict['mean_intensity'])).mean()\n",
        "features_dict['mean_absolute_deviation']"
      ],
      "execution_count": 22,
      "outputs": [
        {
          "output_type": "execute_result",
          "data": {
            "text/plain": [
              "1.5325000000000002"
            ]
          },
          "metadata": {
            "tags": []
          },
          "execution_count": 22
        }
      ]
    },
    {
      "cell_type": "code",
      "metadata": {
        "id": "ygkMUYpPuFZM",
        "colab_type": "code",
        "colab": {
          "base_uri": "https://localhost:8080/",
          "height": 34
        },
        "outputId": "507186fa-715e-485d-ebee-dddd867e3a04"
      },
      "source": [
        "# intensity-based robust mean absolute deviation\n",
        "P10_90 = phantom_masked[np.where((features_dict['tenth_percentile'] <= phantom_masked) & (phantom_masked <= features_dict['ninetenth_percentile']))] \n",
        "features_dict['robust_mean_absolute_deviation'] = (np.abs(P10_90 - P10_90.mean())).mean()\n",
        "features_dict['robust_mean_absolute_deviation']"
      ],
      "execution_count": 23,
      "outputs": [
        {
          "output_type": "execute_result",
          "data": {
            "text/plain": [
              "1.1138338159946537"
            ]
          },
          "metadata": {
            "tags": []
          },
          "execution_count": 23
        }
      ]
    },
    {
      "cell_type": "code",
      "metadata": {
        "id": "pXPienOfu-p7",
        "colab_type": "code",
        "colab": {
          "base_uri": "https://localhost:8080/",
          "height": 34
        },
        "outputId": "470416f5-e12c-42a2-de2d-93b243f213cc"
      },
      "source": [
        "# intensity-based median absolute deviation\n",
        "features_dict['median_absolute_deviation'] = (np.abs(phantom_masked - features_dict['median_intensity'])).mean()\n",
        "features_dict['median_absolute_deviation']"
      ],
      "execution_count": 24,
      "outputs": [
        {
          "output_type": "execute_result",
          "data": {
            "text/plain": [
              "1.1375"
            ]
          },
          "metadata": {
            "tags": []
          },
          "execution_count": 24
        }
      ]
    },
    {
      "cell_type": "code",
      "metadata": {
        "id": "N_CG_8gNvdOW",
        "colab_type": "code",
        "colab": {
          "base_uri": "https://localhost:8080/",
          "height": 34
        },
        "outputId": "96bf5723-d1cc-48c9-912a-8ff2055a28e7"
      },
      "source": [
        "# intensity-based coefficient of variation\n",
        "features_dict['coefficient_of_variation'] = features_dict['intensity_variance'] / features_dict['mean_intensity']\n",
        "features_dict['coefficient_of_variation']"
      ],
      "execution_count": 25,
      "outputs": [
        {
          "output_type": "execute_result",
          "data": {
            "text/plain": [
              "1.5785377358490567"
            ]
          },
          "metadata": {
            "tags": []
          },
          "execution_count": 25
        }
      ]
    },
    {
      "cell_type": "code",
      "metadata": {
        "id": "E3kodtqSwRDO",
        "colab_type": "code",
        "colab": {
          "base_uri": "https://localhost:8080/",
          "height": 34
        },
        "outputId": "9f323f12-6cdb-404e-a8b7-e67789e68c49"
      },
      "source": [
        "# Intensity-based quartile coefficient of dispersion\n",
        "P25 = np.percentile(phantom_masked, 25)\n",
        "P75 = np.percentile(phantom_masked, 75)\n",
        "features_dict['quartile_coefficient_of_dispersion'] = (P75 - P25) / (P75 + P25)\n",
        "features_dict['quartile_coefficient_of_dispersion']"
      ],
      "execution_count": 26,
      "outputs": [
        {
          "output_type": "execute_result",
          "data": {
            "text/plain": [
              "0.6"
            ]
          },
          "metadata": {
            "tags": []
          },
          "execution_count": 26
        }
      ]
    },
    {
      "cell_type": "code",
      "metadata": {
        "id": "ssAc-QUgwpY0",
        "colab_type": "code",
        "colab": {
          "base_uri": "https://localhost:8080/",
          "height": 34
        },
        "outputId": "a68a6b7a-ad64-4bfa-d183-a8fba9f9124e"
      },
      "source": [
        "# intensity based energy\n",
        "features_dict['energy'] = (np.square(phantom_masked)).sum()\n",
        "features_dict['energy']"
      ],
      "execution_count": 27,
      "outputs": [
        {
          "output_type": "execute_result",
          "data": {
            "text/plain": [
              "567.0"
            ]
          },
          "metadata": {
            "tags": []
          },
          "execution_count": 27
        }
      ]
    },
    {
      "cell_type": "code",
      "metadata": {
        "id": "dGxQDrMhx_gd",
        "colab_type": "code",
        "colab": {
          "base_uri": "https://localhost:8080/",
          "height": 34
        },
        "outputId": "bbce556b-4a5b-477b-e583-80519038dec0"
      },
      "source": [
        "# root mean square intensity\n",
        "features_dict['root_mean_square_intensity'] = np.sqrt(features_dict['energy'] / len(phantom_masked.flatten()))\n",
        "features_dict['root_mean_square_intensity']"
      ],
      "execution_count": 28,
      "outputs": [
        {
          "output_type": "execute_result",
          "data": {
            "text/plain": [
              "2.662235902394827"
            ]
          },
          "metadata": {
            "tags": []
          },
          "execution_count": 28
        }
      ]
    },
    {
      "cell_type": "markdown",
      "metadata": {
        "id": "tOqGykdYFxf5",
        "colab_type": "text"
      },
      "source": [
        "### exporting results to a CSV file and download"
      ]
    },
    {
      "cell_type": "code",
      "metadata": {
        "id": "a39r_Ph9FqMv",
        "colab_type": "code",
        "colab": {
          "base_uri": "https://localhost:8080/",
          "height": 71
        },
        "outputId": "1113da37-bef8-4515-86f1-b7c23d2bf4a3"
      },
      "source": [
        "# round results with lot of decimals up to 2 decimal\n",
        "print(features_dict)\n",
        "features_dict = {key : round(value, 2) for key,value in features_dict.items()}\n",
        "print(features_dict)\n",
        "\n",
        "# convert the dict to a dataframe then export it to csv format\n",
        "df = pd.DataFrame(list(features_dict.items()), columns=['feature', 'value'])\n",
        "df.to_csv('features.csv')\n"
      ],
      "execution_count": 29,
      "outputs": [
        {
          "output_type": "stream",
          "text": [
            "{'mean_intensity': 1.9875, 'intensity_variance': 3.1373437500000003, 'intensity_skewness': 0.6328408108841197, 'intensity kurtosis': -0.18175094675151637, 'median_intensity': 1.0, 'min_intensity': 0.0, 'tenth_percentile': 1.0, 'ninetenth_percentile': 4.0, 'max_intensity': 6.0, 'interquartile_range': 3.0, 'intensity range': 6.0, 'mean_absolute_deviation': 1.5325000000000002, 'robust_mean_absolute_deviation': 1.1138338159946537, 'median_absolute_deviation': 1.1375, 'coefficient_of_variation': 1.5785377358490567, 'quartile_coefficient_of_dispersion': 0.6, 'energy': 567.0, 'root_mean_square_intensity': 2.662235902394827}\n",
            "{'mean_intensity': 1.99, 'intensity_variance': 3.14, 'intensity_skewness': 0.63, 'intensity kurtosis': -0.18, 'median_intensity': 1.0, 'min_intensity': 0.0, 'tenth_percentile': 1.0, 'ninetenth_percentile': 4.0, 'max_intensity': 6.0, 'interquartile_range': 3.0, 'intensity range': 6.0, 'mean_absolute_deviation': 1.53, 'robust_mean_absolute_deviation': 1.11, 'median_absolute_deviation': 1.14, 'coefficient_of_variation': 1.58, 'quartile_coefficient_of_dispersion': 0.6, 'energy': 567.0, 'root_mean_square_intensity': 2.66}\n"
          ],
          "name": "stdout"
        }
      ]
    },
    {
      "cell_type": "code",
      "metadata": {
        "id": "FwuGKBnGLOxN",
        "colab_type": "code",
        "colab": {
          "base_uri": "https://localhost:8080/",
          "height": 17
        },
        "outputId": "4df30cee-06b6-4fbc-c5bc-96d40026e263"
      },
      "source": [
        "# download the csv\n",
        "files.download('features.csv')"
      ],
      "execution_count": 30,
      "outputs": [
        {
          "output_type": "display_data",
          "data": {
            "application/javascript": [
              "\n",
              "    async function download(id, filename, size) {\n",
              "      if (!google.colab.kernel.accessAllowed) {\n",
              "        return;\n",
              "      }\n",
              "      const div = document.createElement('div');\n",
              "      const label = document.createElement('label');\n",
              "      label.textContent = `Downloading \"${filename}\": `;\n",
              "      div.appendChild(label);\n",
              "      const progress = document.createElement('progress');\n",
              "      progress.max = size;\n",
              "      div.appendChild(progress);\n",
              "      document.body.appendChild(div);\n",
              "\n",
              "      const buffers = [];\n",
              "      let downloaded = 0;\n",
              "\n",
              "      const channel = await google.colab.kernel.comms.open(id);\n",
              "      // Send a message to notify the kernel that we're ready.\n",
              "      channel.send({})\n",
              "\n",
              "      for await (const message of channel.messages) {\n",
              "        // Send a message to notify the kernel that we're ready.\n",
              "        channel.send({})\n",
              "        if (message.buffers) {\n",
              "          for (const buffer of message.buffers) {\n",
              "            buffers.push(buffer);\n",
              "            downloaded += buffer.byteLength;\n",
              "            progress.value = downloaded;\n",
              "          }\n",
              "        }\n",
              "      }\n",
              "      const blob = new Blob(buffers, {type: 'application/binary'});\n",
              "      const a = document.createElement('a');\n",
              "      a.href = window.URL.createObjectURL(blob);\n",
              "      a.download = filename;\n",
              "      div.appendChild(a);\n",
              "      a.click();\n",
              "      div.remove();\n",
              "    }\n",
              "  "
            ],
            "text/plain": [
              "<IPython.core.display.Javascript object>"
            ]
          },
          "metadata": {
            "tags": []
          }
        },
        {
          "output_type": "display_data",
          "data": {
            "application/javascript": [
              "download(\"download_f5fa285d-8111-425b-adaa-c53d1280a646\", \"features.csv\", 509)"
            ],
            "text/plain": [
              "<IPython.core.display.Javascript object>"
            ]
          },
          "metadata": {
            "tags": []
          }
        }
      ]
    },
    {
      "cell_type": "code",
      "metadata": {
        "id": "6MZTVHJuTo0Z",
        "colab_type": "code",
        "colab": {}
      },
      "source": [
        ""
      ],
      "execution_count": 30,
      "outputs": []
    }
  ]
}